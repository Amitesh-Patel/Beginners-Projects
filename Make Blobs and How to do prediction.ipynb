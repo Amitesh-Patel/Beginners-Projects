{
 "cells": [
  {
   "cell_type": "code",
   "execution_count": 3,
   "id": "bcc58c29",
   "metadata": {},
   "outputs": [],
   "source": [
    "import pandas as pd\n",
    "import numpy as np"
   ]
  },
  {
   "cell_type": "code",
   "execution_count": 4,
   "id": "cfb31d35",
   "metadata": {},
   "outputs": [],
   "source": [
    "from sklearn.datasets import make_blobs"
   ]
  },
  {
   "cell_type": "code",
   "execution_count": 5,
   "id": "1fa3e336",
   "metadata": {},
   "outputs": [],
   "source": [
    "X,y=make_blobs(n_samples=1000,\n",
    "    n_features=2,\n",
    "    centers=2,\n",
    "    shuffle=True,\n",
    "    random_state=2,\n",
    "        )"
   ]
  },
  {
   "cell_type": "code",
   "execution_count": 6,
   "id": "2bf7234d",
   "metadata": {},
   "outputs": [
    {
     "name": "stdout",
     "output_type": "stream",
     "text": [
      "(1000, 2) (1000,)\n"
     ]
    }
   ],
   "source": [
    "print(X.shape,y.shape)"
   ]
  },
  {
   "cell_type": "code",
   "execution_count": 7,
   "id": "a475ce4c",
   "metadata": {},
   "outputs": [
    {
     "name": "stdout",
     "output_type": "stream",
     "text": [
      "1.0\n"
     ]
    }
   ],
   "source": [
    "from sklearn.linear_model import LogisticRegression\n",
    "from sklearn.metrics import accuracy_score\n",
    "model=LogisticRegression(solver='lbfgs')\n",
    "model.fit(X,y)\n",
    "pred=model.predict(X)\n",
    "acc=accuracy_score(pred,y)\n",
    "print(acc)\n"
   ]
  },
  {
   "cell_type": "markdown",
   "id": "7678105f",
   "metadata": {},
   "source": [
    "# How to Connect Predictions With Inputs to the Model"
   ]
  },
  {
   "cell_type": "markdown",
   "id": "43dd7468",
   "metadata": {},
   "source": [
    "A fit machine learning model take input and predict the output.\n",
    "For example, we can make a prediction with an array input and get one output and we know that the two are directly connected.\n",
    "The input must be defined as an array of numbers, specifically 1 row with 2 columns. We can achieve this by defining the example as a list of rows with a list of columns for each row; for example:"
   ]
  },
  {
   "cell_type": "code",
   "execution_count": 8,
   "id": "86d2a459",
   "metadata": {},
   "outputs": [
    {
     "name": "stdout",
     "output_type": "stream",
     "text": [
      "[[2.12309797, -1.41131072]] [1]\n"
     ]
    }
   ],
   "source": [
    "new_input=[[2.12309797, -1.41131072]]\n",
    "new_output=model.predict(new_input)\n",
    "print(new_input,new_output)"
   ]
  },
  {
   "cell_type": "markdown",
   "id": "eb65a280",
   "metadata": {},
   "source": [
    "If we needed to replace the labels 0 and 1 with something meaningful like “spam” and “not spam“, we could do that with a simple if-statement."
   ]
  },
  {
   "cell_type": "code",
   "execution_count": 9,
   "id": "95d2e251",
   "metadata": {},
   "outputs": [
    {
     "name": "stdout",
     "output_type": "stream",
     "text": [
      "spam\n"
     ]
    }
   ],
   "source": [
    "if(new_output==1):\n",
    "    print('spam')\n",
    "else:\n",
    "    print('ham')"
   ]
  },
  {
   "cell_type": "markdown",
   "id": "2b200b5b",
   "metadata": {},
   "source": [
    "# What happens when the model is used to make multiple predictions at once?"
   ]
  },
  {
   "cell_type": "code",
   "execution_count": 10,
   "id": "44e66a7c",
   "metadata": {},
   "outputs": [],
   "source": [
    "predictions = model.predict(X)"
   ]
  },
  {
   "cell_type": "code",
   "execution_count": 11,
   "id": "188c8853",
   "metadata": {},
   "outputs": [
    {
     "name": "stdout",
     "output_type": "stream",
     "text": [
      "[ 1.23839154 -2.8475005 ] 1\n",
      "[-1.25884111 -8.57055785] 0\n",
      "[ -0.86599821 -10.50446358] 0\n",
      "[ 0.59831673 -1.06451727] 1\n",
      "[ 2.12309797 -1.41131072] 1\n",
      "[-1.53722693 -9.61845366] 0\n",
      "[ 0.92194131 -0.68709327] 1\n",
      "[-1.31478732 -8.78528161] 0\n",
      "[ 1.57989896 -1.462412  ] 1\n",
      "[ 1.36989667 -1.3964704 ] 1\n"
     ]
    }
   ],
   "source": [
    "for i in range(10):\n",
    "    print(X[i],y[i])"
   ]
  },
  {
   "cell_type": "markdown",
   "id": "da3f0040",
   "metadata": {},
   "source": [
    "# one more method to show predictions"
   ]
  },
  {
   "cell_type": "code",
   "execution_count": 12,
   "id": "25775fd6",
   "metadata": {},
   "outputs": [],
   "source": [
    "new=X[[1]]  #here you should take care of the dimension two bracket"
   ]
  },
  {
   "cell_type": "code",
   "execution_count": 13,
   "id": "0981a745",
   "metadata": {},
   "outputs": [
    {
     "data": {
      "text/plain": [
       "array([[-1.25884111, -8.57055785]])"
      ]
     },
     "execution_count": 13,
     "metadata": {},
     "output_type": "execute_result"
    }
   ],
   "source": [
    "new"
   ]
  },
  {
   "cell_type": "code",
   "execution_count": 14,
   "id": "1a7ac1bb",
   "metadata": {},
   "outputs": [],
   "source": [
    "new_pred=model.predict(new)"
   ]
  },
  {
   "cell_type": "code",
   "execution_count": 15,
   "id": "1841ba68",
   "metadata": {},
   "outputs": [
    {
     "data": {
      "text/plain": [
       "array([0])"
      ]
     },
     "execution_count": 15,
     "metadata": {},
     "output_type": "execute_result"
    }
   ],
   "source": [
    "new_pred"
   ]
  },
  {
   "cell_type": "markdown",
   "id": "eb1b7822",
   "metadata": {},
   "source": [
    "# Saving the model"
   ]
  },
  {
   "cell_type": "code",
   "execution_count": 16,
   "id": "14884161",
   "metadata": {},
   "outputs": [],
   "source": [
    "import pickle"
   ]
  },
  {
   "cell_type": "code",
   "execution_count": 17,
   "id": "c34bd6e0",
   "metadata": {},
   "outputs": [],
   "source": [
    "filename = 'LRmodel_blog.sav'\n",
    "pickle.dump(model, open(filename, 'wb'))\n"
   ]
  },
  {
   "cell_type": "markdown",
   "id": "be7e7235",
   "metadata": {},
   "source": [
    "# Loading the model"
   ]
  },
  {
   "cell_type": "code",
   "execution_count": 18,
   "id": "ddde199e",
   "metadata": {},
   "outputs": [],
   "source": [
    "#loaded_model = pickle.load(open(filename, 'rb'))\n",
    "#result = loaded_model.score(X_test, Y_test)\n",
    "#print(result)"
   ]
  },
  {
   "cell_type": "markdown",
   "id": "3858f2bf",
   "metadata": {},
   "source": [
    "# "
   ]
  },
  {
   "cell_type": "markdown",
   "id": "e7dc1fc8",
   "metadata": {},
   "source": [
    "# saving the model with joblib"
   ]
  },
  {
   "cell_type": "code",
   "execution_count": 19,
   "id": "d44587c4",
   "metadata": {},
   "outputs": [],
   "source": [
    "#joblib is faster on bug numpy array"
   ]
  },
  {
   "cell_type": "code",
   "execution_count": 20,
   "id": "87c649df",
   "metadata": {},
   "outputs": [],
   "source": [
    "#filename = 'finalized_model.sav'\n",
    "#joblib.dump(model, filename)\n"
   ]
  },
  {
   "cell_type": "code",
   "execution_count": 21,
   "id": "1ed671cf",
   "metadata": {},
   "outputs": [],
   "source": [
    "#loaded_model = joblib.load(filename)\n",
    "#result = loaded_model.score(X_test, Y_test)\n",
    "#print(result)"
   ]
  },
  {
   "cell_type": "code",
   "execution_count": 22,
   "id": "ae465356",
   "metadata": {},
   "outputs": [
    {
     "ename": "AttributeError",
     "evalue": "'numpy.ndarray' object has no attribute 'head'",
     "output_type": "error",
     "traceback": [
      "\u001b[1;31m---------------------------------------------------------------------------\u001b[0m",
      "\u001b[1;31mAttributeError\u001b[0m                            Traceback (most recent call last)",
      "Input \u001b[1;32mIn [22]\u001b[0m, in \u001b[0;36m<cell line: 1>\u001b[1;34m()\u001b[0m\n\u001b[1;32m----> 1\u001b[0m \u001b[43mX\u001b[49m\u001b[38;5;241;43m.\u001b[39;49m\u001b[43mhead\u001b[49m()\n",
      "\u001b[1;31mAttributeError\u001b[0m: 'numpy.ndarray' object has no attribute 'head'"
     ]
    }
   ],
   "source": []
  },
  {
   "cell_type": "code",
   "execution_count": null,
   "id": "4e2eab0a",
   "metadata": {},
   "outputs": [],
   "source": []
  }
 ],
 "metadata": {
  "kernelspec": {
   "display_name": "Python 3 (ipykernel)",
   "language": "python",
   "name": "python3"
  },
  "language_info": {
   "codemirror_mode": {
    "name": "ipython",
    "version": 3
   },
   "file_extension": ".py",
   "mimetype": "text/x-python",
   "name": "python",
   "nbconvert_exporter": "python",
   "pygments_lexer": "ipython3",
   "version": "3.9.12"
  }
 },
 "nbformat": 4,
 "nbformat_minor": 5
}
